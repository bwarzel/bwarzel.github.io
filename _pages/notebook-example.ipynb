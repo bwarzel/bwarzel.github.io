{
 "cells": [
  {
   "cell_type": "markdown",
   "id": "774d7830-849c-436b-99b6-2e0ef0299507",
   "metadata": {},
   "source": [
    "# Ben Warzel's Data Biography"
   ]
  }
 ],
 "metadata": {
  "kernelspec": {
   "display_name": "Python [conda env:base] *",
   "language": "python",
   "name": "conda-base-py"
  },
  "language_info": {
   "codemirror_mode": {
    "name": "ipython",
    "version": 3
   },
   "file_extension": ".py",
   "mimetype": "text/x-python",
   "name": "python",
   "nbconvert_exporter": "python",
   "pygments_lexer": "ipython3",
   "version": "3.12.7"
  }
 },
 "nbformat": 4,
 "nbformat_minor": 5
}
