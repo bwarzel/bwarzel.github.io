{
 "cells": [
  {
   "cell_type": "code",
   "execution_count": 7,
   "id": "506dbd6b-ef28-46e6-ac17-b16a169f50e6",
   "metadata": {},
   "outputs": [],
   "source": [
    "import pandas as pd\n",
    "import plotly.express as px"
   ]
  },
  {
   "cell_type": "markdown",
   "id": "39adaf10-77a0-4a34-bafa-9293a9e13b56",
   "metadata": {},
   "source": [
    "**Ben Warzel's Data Biography**"
   ]
  },
  {
   "cell_type": "markdown",
   "id": "6eab03c1-9054-4c60-aeea-91590d4702b3",
   "metadata": {},
   "source": [
    "<div align=\"center\">\n",
    "  <img\n",
    "    src=\"../assets/img/kkkmain.png\"\n",
    "    width=\"60%\"\n",
    "    style=\"border: 2px solid\"\n",
    "    alt=\"Description of image\"\n",
    "  />\n",
    "  <figcaption style=\"font-style: italic\">\n",
    "    One page of ledger one.\n",
    "  </figcaption>\n",
    "</div>\n"
   ]
  },
  {
   "cell_type": "markdown",
   "id": "3eead54a-79be-4281-8ac4-092775ffd7e1",
   "metadata": {},
   "source": [
    "Thanks to History Colorado and a team of researchers, we are able to view two ledgers from the Denver Ku Klux Klan organization, dating from 1924-1926. The first KKK chapter in Colorado was established in 1915, so by the time these ledgers were in use the group had a well-established presence in Denver and surrounding communities. The resurgence of the KKK nationwide in 1915 included a wider net of hatred, extending not only to black folk but Catholics and Jewish people as well. \n"
   ]
  },
  {
   "cell_type": "markdown",
   "id": "d9dd7426-f556-4115-a51d-1f7d3755d8c4",
   "metadata": {},
   "source": [
    "Around this time, the Colorado KKK was being led by “Grand Dragon” John Galen Locke. They began facing pushback from local government employees and began to decline again in popularity by 1925. Unfortunately there is no indication as to year visible in the ledger, so we are not entirely able to track the decline by year.\n"
   ]
  },
  {
   "cell_type": "markdown",
   "id": "df943d56-a3c9-4ecd-8167-b71ccb5e5f6e",
   "metadata": {},
   "source": [
    "This data was originally recorded by KKK members for administrative purposes, listing things like member numbers and addresses. **History Colorado makes a note that the first 69 entries are missing for some reason.** The first ledger is handwritten and a bit more detailed, including cash payments, attending officer numbers, dates to and from the Klokann (an administrative role in the Klan), weekly reports, and ‘date naturalized’ which seems to be their term for joining the organization. Some interesting things of note are in later pages there are people who are listed as “Rejected” with various other notes, referring to specific reference numbers or stating whether the person was refunded the $10 member fee. Ledger two is written by typewriter, and includes simpler information; name, residence address, and business address. However, not every entry contains both of these pieces of information. There are also columns for a phone number which are largely empty as well. Occasionally, they have recorded not the business address but instead the business name, allowing a small glimpse into the range of people interested in the Klan. There are places like banks and steelworks, and even police officers. The choice to include this information is very intriguing, and I believe it reflects a certain amount of paranoia. By recording the address of not only their home but their place of business, the Klan is inherently implying that they can reach you and interfere with your personal life should you act in a way they disapprove of. There are also red lines scratching out various rows with handwritten notes that say ‘Resigned’ or even ‘Died’, with no further notes.\n"
   ]
  },
  {
   "cell_type": "markdown",
   "id": "0c7697d1-08b3-4627-8406-8005e92ca12a",
   "metadata": {},
   "source": [
    "<div align=\"center\">\n",
    "  <img\n",
    "    src=\"../assets/img/kkkresigned.png\"\n",
    "    width=\"60%\"\n",
    "    style=\"border: 2px solid\"\n",
    "    alt=\"Description of image\"\n",
    "  />\n",
    "  <figcaption style=\"font-style: italic\">\n",
    "    Entry showing 'resigned'.\n",
    "  </figcaption>\n",
    "</div>\n"
   ]
  },
  {
   "cell_type": "markdown",
   "id": "fada7662-273a-454f-ac4f-9fcef905accb",
   "metadata": {},
   "source": [
    "<div align=\"center\">\n",
    "  <img\n",
    "    src=\"../assets/img/profile-1.png\"\n",
    "    width=\"60%\"\n",
    "    style=\"border: 2px solid\"\n",
    "    alt=\"Description of image\"\n",
    "  />\n",
    "  <figcaption style=\"font-style: italic\">\n",
    "    Entry showing 'died'.\n",
    "  </figcaption>\n",
    "</div>\n",
    "\n",
    "\n"
   ]
  },
  {
   "cell_type": "markdown",
   "id": "232d943a-eff6-4dff-ac97-2b75e6e88ed5",
   "metadata": {},
   "source": [
    "Today, all of this information has been digitized and stored online. History Colorado’s website hosts image scans of the actual ledgers, which users are able to scroll through and download. They also include a document of a full combined index of both ledgers, with categories for name, residence address & city, and business address or name. This document is also downloadable for free. For the purposes of this project, a raw .csv file containing the information from the combined index was analyzed using Jupyter labs. \n"
   ]
  },
  {
   "cell_type": "markdown",
   "id": "e3de43ba-e4e7-4570-9bd0-c8290ffc56e6",
   "metadata": {},
   "source": [
    "<div align=\"center\">\n",
    "  <img\n",
    "    src=\"../assets/img/kkkcitystate.png\"\n",
    "    width=\"60%\"\n",
    "    style=\"border: 2px solid\"\n",
    "    alt=\"Description of image\"\n",
    "  />\n",
    "  <figcaption style=\"font-style: italic\">\n",
    "    The top most frequent Cities listed in the ledgers.\n",
    "  </figcaption>\n",
    "</div>\n",
    " \n"
   ]
  },
  {
   "cell_type": "markdown",
   "id": "89fc39d8-8977-42f4-8a1e-c926b93a0973",
   "metadata": {},
   "source": [
    "Here we can see the top cities of members recorded in the ledgers. Unsurprisingly, Denver is far ahead of anywhere else. Presumably other cities had their own ledgers as well, and the outliers in the Denver ledger likely commuted to Denver often for work. It is also possible that some people chose to join a chapter that was not their local one because they might have feared judgement from their neighbors, while the Denver chapter was clearly thriving. \n"
   ]
  },
  {
   "cell_type": "markdown",
   "id": "3acfea1b-5f6a-4cc7-89ae-b4726cbf6a92",
   "metadata": {},
   "source": [
    "There are many things we can’t learn from these books. For example, they contain no information about the Klan’s activities or what the members expected roles would be. These ledgers appear to be mainly a one-time use, except in cases where members resigned or died. As such, it contains no details about the Klan’s regular activities. We also can’t be sure about the ethnic identity of the names listed, although there are some names like ‘Kilpatrick’ but the most common last names are fairly vague, including “Johnson” and “Brown”. There exists a similar difficulty in determining the gender of members. In a random sample of 50 names, ‘Ethel’ was the only one not clearly male. \n"
   ]
  },
  {
   "cell_type": "markdown",
   "id": "14910694-69f7-485b-b0f6-457710014dec",
   "metadata": {},
   "source": [
    "<div align=\"center\">\n",
    "  <img\n",
    "    src=\"../assets/img/kkklastname.png\"\n",
    "    width=\"60%\"\n",
    "    style=\"border: 2px solid\"\n",
    "    alt=\"Description of image\"\n",
    "  />\n",
    "  <figcaption style=\"font-style: italic\">\n",
    "    Most frequent last names.\n",
    "  </figcaption>\n",
    "</div>\n"
   ]
  },
  {
   "cell_type": "markdown",
   "id": "67b6ca03-74e0-44ac-b00e-6543b833133f",
   "metadata": {},
   "source": [
    "<div align=\"center\">\n",
    "  <img\n",
    "    src=\"../assets/img/kkkfullname.png\"\n",
    "    width=\"60%\"\n",
    "    style=\"border: 2px solid\"\n",
    "    alt=\"Description of image\"\n",
    "  />\n",
    "  <figcaption style=\"font-style: italic\">\n",
    "    A random sample of full names and cities.\n",
    "  </figcaption>\n",
    "</div>\n"
   ]
  },
  {
   "cell_type": "markdown",
   "id": "3e2f61d0-174c-4c75-a33a-8ca8d31fc807",
   "metadata": {},
   "source": [
    "As historical documents, these ledgers are very interesting and help to contribute to our understanding of social justice in America. Being able to see just how many people were involved in the KKK barely 100 years ago is certainly eye-opening, especially when we consider Denver’s demographics today. White people make up 54% of the population, followed by Hispanics at 28%. Black people represent only about 8% of Denver’s diversity. We can see from these ledgers that it was not only wealthy businessmen who were involved with the KKK, but even police officers and steel workers. History Colorado’s interactive map of listed addresses also helps bring these things closer to home, as the neighborhoods and houses still exist today. We can get a real sense of where the majority of KKK members were living, which turns out to be central and south Denver. From this, we can draw the conclusion that those neighborhoods lacking representation on the map were more minority or potentially Jewish communities. \n"
   ]
  },
  {
   "cell_type": "markdown",
   "id": "35ced549-34b9-4cab-b6f0-82ca4b19838c",
   "metadata": {},
   "source": [
    "<div align=\"center\">\n",
    "  <img\n",
    "    src=\"../assets/img/kkkmap.png\"\n",
    "    width=\"60%\"\n",
    "    style=\"border: 2px solid\"\n",
    "    alt=\"Description of image\"\n",
    "  />\n",
    "  <figcaption style=\"font-style: italic\">\n",
    "    History Colorado's interactive map.\n",
    "  </figcaption>\n",
    "</div>\n"
   ]
  },
  {
   "cell_type": "markdown",
   "id": "521134d6-dcbf-4538-aed4-861d292ec4da",
   "metadata": {},
   "source": [
    "Overall, these ledgers offer an interesting look back in time at the influence of hateful groups like the Ku Klux Klan. It is easy to imagine that all of this was very far away in time and space, but in reality it was only one or two generations ago, in houses and businesses we can still visit today. Collecting and sharing this kind of data is important because it lets us keep an eye on the past while moving forward. "
   ]
  },
  {
   "cell_type": "code",
   "execution_count": null,
   "id": "fb035c89-2085-4773-b5a5-c250b63c7958",
   "metadata": {},
   "outputs": [],
   "source": []
  }
 ],
 "metadata": {
  "kernelspec": {
   "display_name": "Python [conda env:base] *",
   "language": "python",
   "name": "conda-base-py"
  },
  "language_info": {
   "codemirror_mode": {
    "name": "ipython",
    "version": 3
   },
   "file_extension": ".py",
   "mimetype": "text/x-python",
   "name": "python",
   "nbconvert_exporter": "python",
   "pygments_lexer": "ipython3",
   "version": "3.12.7"
  }
 },
 "nbformat": 4,
 "nbformat_minor": 5
}
