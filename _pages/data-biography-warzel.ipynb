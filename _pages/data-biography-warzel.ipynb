---
layout: notebook
title: "Ben Warzel's Data Biography"
permalink: /databio/
showcase: true
tools: ["Python"]
date: 2025-03-20
description: >
  Merp
---

{
 "cells": [
  {
   "cell_type": "markdown",
   "id": "39adaf10-77a0-4a34-bafa-9293a9e13b56",
   "metadata": {},
   "source": [
    "THIS WILL BE MY DATA BIOGRAPHY"
   ]
  },
  {
   "cell_type": "code",
   "execution_count": 3,
   "id": "029e1809-8a84-4259-be36-4ff500590259",
   "metadata": {},
   "outputs": [
    {
     "ename": "NameError",
     "evalue": "name 'hello' is not defined",
     "output_type": "error",
     "traceback": [
      "\u001b[0;31m---------------------------------------------------------------------------\u001b[0m",
      "\u001b[0;31mNameError\u001b[0m                                 Traceback (most recent call last)",
      "Cell \u001b[0;32mIn[3], line 1\u001b[0m\n\u001b[0;32m----> 1\u001b[0m \u001b[38;5;28mprint\u001b[39m(hello)\n",
      "\u001b[0;31mNameError\u001b[0m: name 'hello' is not defined"
     ]
    }
   ],
   "source": [
    "print(hello)"
   ]
  },
  {
   "cell_type": "code",
   "execution_count": 5,
   "id": "45a87ee3-d16d-42ad-a4cd-e256a3f2b50d",
   "metadata": {},
   "outputs": [
    {
     "name": "stdout",
     "output_type": "stream",
     "text": [
      "hello\n"
     ]
    }
   ],
   "source": [
    "print('hello')"
   ]
  }
 ],
 "metadata": {
  "kernelspec": {
   "display_name": "Python [conda env:base] *",
   "language": "python",
   "name": "conda-base-py"
  },
  "language_info": {
   "codemirror_mode": {
    "name": "ipython",
    "version": 3
   },
   "file_extension": ".py",
   "mimetype": "text/x-python",
   "name": "python",
   "nbconvert_exporter": "python",
   "pygments_lexer": "ipython3",
   "version": "3.12.7"
  }
 },
 "nbformat": 4,
 "nbformat_minor": 5
}
