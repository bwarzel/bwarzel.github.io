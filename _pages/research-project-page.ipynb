{
 "cells": [
  {
   "cell_type": "markdown",
   "id": "0109b0c5-cef3-4628-bc60-f63e598c99e5",
   "metadata": {},
   "source": [
    "# Consumer Expenditure Trends 2006-2020 \n",
    "## Ben Warzel\n",
    "### 5/3/2025"
   ]
  },
  {
   "cell_type": "markdown",
   "id": "c78845e1-915d-45ff-996a-0ad1055d13d0",
   "metadata": {},
   "source": [
    "*Note: generative AI was used in this project during data analysis*"
   ]
  },
  {
   "cell_type": "markdown",
   "id": "fd28454e-b64e-457b-8893-350ceae8bea5",
   "metadata": {},
   "source": [
    "### Introduction\n",
    "I chose this particular set of consumer expenditure data because it covers the majority of my childhood and adolescence, and I was curious to see the impacts of events like the 2008 housing crisis on the average American's spending habits. The rise and prevalence of credit cards into the 2010s is something else that might affect how people spend. \n",
    "\n",
    "According to the Bureau of Labor Statistics, by 2005 consumers were spending 97% of their income. During the Great Recession, that number dropped to 92% due to higher mortage debt and lower home equity. People had to try to save more of their money. The BLS also has data on employment statistics for the same time period, which we will examine later.\n",
    "\n",
    "The main categories I examined here are Housing, Healthcare, Food, and Transportation. I also attempt to answer questions about extraneous spending; how the consumption of alcohol and tobacco changes over time for example, or the section labeled \"Entertainment\" which we can assume to mean things like going to the movies or concerts. "
   ]
  },
  {
   "cell_type": "code",
   "execution_count": null,
   "id": "07f0d203-3e49-4e55-a805-e87428d65c65",
   "metadata": {},
   "outputs": [],
   "source": []
  }
 ],
 "metadata": {
  "kernelspec": {
   "display_name": "Python [conda env:base] *",
   "language": "python",
   "name": "conda-base-py"
  },
  "language_info": {
   "codemirror_mode": {
    "name": "ipython",
    "version": 3
   },
   "file_extension": ".py",
   "mimetype": "text/x-python",
   "name": "python",
   "nbconvert_exporter": "python",
   "pygments_lexer": "ipython3",
   "version": "3.12.7"
  }
 },
 "nbformat": 4,
 "nbformat_minor": 5
}
