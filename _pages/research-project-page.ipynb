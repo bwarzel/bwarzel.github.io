---
title: Research Project Ben Warzel
layout: page
category: "Data & Presentation"
date: 2025-05-15
permalink: /research-project/ # The URL for this page
showcase: false # Set to false to hide from portfolio page
description: >
  Research Prooject for HIST 4261: Working With Data
---

{
 "cells": [
  {
   "cell_type": "markdown",
   "id": "0109b0c5-cef3-4628-bc60-f63e598c99e5",
   "metadata": {},
   "source": [
    "# Consumer Expenditure Trends 2006-2020 \n",
    "## Ben Warzel\n",
    "### 5/3/2025"
   ]
  },
  {
   "cell_type": "markdown",
   "id": "c78845e1-915d-45ff-996a-0ad1055d13d0",
   "metadata": {},
   "source": [
    "*Note: generative AI was used in this project during data analysis*"
   ]
  },
  {
   "cell_type": "markdown",
   "id": "fd28454e-b64e-457b-8893-350ceae8bea5",
   "metadata": {},
   "source": [
    "### Introduction\n",
    "I chose this particular set of consumer expenditure data because it covers the majority of my childhood and adolescence, and I was curious to see the impacts of events like the 2008 housing crisis on the average American's spending habits. The rise and prevalence of credit cards into the 2010s is something else that might affect how people spend. \n",
    "\n",
    "According to the Bureau of Labor Statistics, by 2005 consumers were spending 97% of their income. During the Great Recession, that number dropped to 92% due to higher mortage debt and lower home equity. People had to try to save more of their money. The BLS also has data on employment statistics for the same time period, which we will examine later.\n",
    "\n",
    "The main categories I examined here are Housing, Healthcare, Food, and Transportation. I also attempt to answer questions about extraneous spending; how the consumption of alcohol and tobacco changes over time for example, or the section labeled \"Entertainment\" which includes things like going to the movies or concerts. "
   ]
  },
  {
   "cell_type": "markdown",
   "id": "776c4db6-ca23-48df-9605-207efcbe52a7",
   "metadata": {},
   "source": [
    "### Methods\n",
    "The original datasets were obtained from the BLS website, where I was able to download documents containing detailed line-by-line breakdowns of spending by year. I chose to select only the documents containing information from 2006-2012 and 2013-2020. These sheets were loosely formatted with a larger section (\"Food\") contianing some amount of rows beneath it with more specific items like \"Meat\", which could also contain subsets like \"Pork\". I decided that for my purposes I was not interested in the particulars of the spending, just the bigger picture. Because of this my first step was to clean the datasets to contain only the most important information. To do this, I first manually edited the sheets to remove non-monetary data. This included things like \"Average number in consumer unit\" (meaning household size) or the percent distribution of various demographic information of the reference individual. This information may be interesting but it will not serve a dataset that we want to manipulate in Python. After doing this, I took my version of the dataset and began working with Claude AI to further clean and organize the data. I instructed it to look for the Items at the beginning of a row break, as each main section is separated this way, and only include that first term. This worked really well and I was left with the categories:\n",
    "\n",
    "1\tAverage Annual Expenditures\n",
    "\n",
    "2\tFood\n",
    "\n",
    "3\tAlcoholic beverages\n",
    "\n",
    "4\tHousing\n",
    "\n",
    "5\tApparel and services\n",
    "\n",
    "6\tTransportation\n",
    "\n",
    "7\tHealthcare\n",
    "\n",
    "8\tEntertainment\n",
    "\n",
    "9\tPersonal care products and services\n",
    "\n",
    "10\tReading\n",
    "\n",
    "11\tEducation\n",
    "\n",
    "12\tTobacco products and smoking supplies\n",
    "\n",
    "13\tMiscellaneous\n",
    "\n",
    "14\tCash contributions\n",
    "\n",
    "15\tPersonal insurance and pensions\n",
    "\n",
    "16\tSources of income and personal taxes:\n",
    "\n",
    "17\tMoney income before taxes a/\n",
    "\n",
    "18\tPersonal taxes (missing values not imputed) a/\n",
    "\n",
    "19\tIncome after taxes a/\n",
    "\n",
    "20\tAddenda:\n",
    "\n",
    "21\tNet change in total assets and liabilities\n",
    "\n",
    "22\tOther financial information:\n",
    "\n",
    "23\tIncome before taxes\n",
    "\n",
    "24\tPersonal taxes (contains some imputed values)\n",
    "\n",
    "25\tIncome after taxes\n",
    "\n",
    "A few of these items have no data associated with them, but as far as I could tell it does not affect the computation of the results, so I decided I was okay with keeping some blank rows. \n",
    "\n",
    "After doing this for both sets of data and double checking to make sure all the categories lined up, I used Python to merge the two cleaned csv files. Next, in order to make the dataframe a bit more readable for Python, I used the command .long to transform the dataframe into a \"long\" format as opposed to a \"wide\" one; meaning each item for each year is given its own row, as oppposed to four columns of years by the amount of items. Then I began exploring the data and looking for trends, as well as using Claude to help me examine individual items or specific areas. \n",
    "\n"
   ]
  },
  {
   "cell_type": "code",
   "execution_count": null,
   "id": "4f804e9a-615b-4dac-b7a8-f2a9f85b25bd",
   "metadata": {},
   "outputs": [],
   "source": []
  }
 ],
 "metadata": {
  "kernelspec": {
   "display_name": "Python [conda env:base] *",
   "language": "python",
   "name": "conda-base-py"
  },
  "language_info": {
   "codemirror_mode": {
    "name": "ipython",
    "version": 3
   },
   "file_extension": ".py",
   "mimetype": "text/x-python",
   "name": "python",
   "nbconvert_exporter": "python",
   "pygments_lexer": "ipython3",
   "version": "3.12.7"
  }
 },
 "nbformat": 4,
 "nbformat_minor": 5
}
